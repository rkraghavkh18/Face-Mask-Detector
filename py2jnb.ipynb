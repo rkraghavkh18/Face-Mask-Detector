{
 "cells": [
  {
   "cell_type": "code",
   "execution_count": 16,
   "id": "daf54c4d",
   "metadata": {},
   "outputs": [],
   "source": [
    "from scipy.sparse.sputils import validateaxis\n",
    "from sklearn import metrics\n",
    "from tensorflow.keras.preprocessing.image import ImageDataGenerator\n",
    "from tensorflow.keras.applications import MobileNetV2\n",
    "from tensorflow.keras.layers import AveragePooling2D\n",
    "from tensorflow.keras.layers import Dropout\n",
    "from tensorflow.keras.layers import Flatten\n",
    "from tensorflow.keras.layers import Dense\n",
    "from tensorflow.keras.layers import Input\n",
    "from tensorflow.keras.models import Model\n",
    "from tensorflow.keras.optimizers import Adam\n",
    "from tensorflow.keras.applications.mobilenet_v2 import preprocess_input\n",
    "from tensorflow.keras.preprocessing.image import img_to_array\n",
    "from tensorflow.keras.preprocessing.image import load_img\n",
    "from tensorflow.keras.utils import to_categorical\n",
    "from sklearn.preprocessing import LabelBinarizer\n",
    "from sklearn.model_selection import train_test_split\n",
    "from sklearn.metrics import classification_report\n",
    "# from imutils import paths\n",
    "import matplotlib.pyplot as plt\n",
    "import tensorflow as tf\n",
    "import numpy as np\n",
    "import os"
   ]
  },
  {
   "cell_type": "code",
   "execution_count": 23,
   "id": "fedce5b5",
   "metadata": {},
   "outputs": [
    {
     "data": {
      "text/plain": [
       "[PhysicalDevice(name='/physical_device:GPU:0', device_type='GPU')]"
      ]
     },
     "execution_count": 23,
     "metadata": {},
     "output_type": "execute_result"
    }
   ],
   "source": [
    "tf.config.list_physical_devices(device_type='GPU')"
   ]
  },
  {
   "cell_type": "code",
   "execution_count": 24,
   "id": "60d99849",
   "metadata": {},
   "outputs": [
    {
     "name": "stdout",
     "output_type": "stream",
     "text": [
      "True\n"
     ]
    }
   ],
   "source": [
    "print(tf.test.is_gpu_available())"
   ]
  },
  {
   "cell_type": "code",
   "execution_count": 25,
   "id": "df128a33",
   "metadata": {},
   "outputs": [
    {
     "data": {
      "text/plain": [
       "True"
      ]
     },
     "execution_count": 25,
     "metadata": {},
     "output_type": "execute_result"
    }
   ],
   "source": [
    "tf.test.is_built_with_cuda()"
   ]
  },
  {
   "cell_type": "code",
   "execution_count": 28,
   "id": "6f0e2849",
   "metadata": {},
   "outputs": [
    {
     "name": "stdout",
     "output_type": "stream",
     "text": [
      "[info] Loading images...\n"
     ]
    },
    {
     "name": "stderr",
     "output_type": "stream",
     "text": [
      "C:\\Users\\ragha\\anaconda3\\envs\\tf2.6\\lib\\site-packages\\PIL\\Image.py:973: UserWarning: Palette images with Transparency expressed in bytes should be converted to RGBA images\n",
      "  warnings.warn(\n"
     ]
    }
   ],
   "source": [
    "INIT_LR = 1e-4\n",
    "EPOCHS = 20\n",
    "BS = 32\n",
    "\n",
    "DIRECTORY =r\"F:/Projects/Mask Detection/mask detect/dataset\"\n",
    "CATEGORIES = [\"with_mask\",\"without_mask\"]\n",
    "print(\"[info] Loading images...\")\n",
    "\n",
    "data = []\n",
    "labels =  []\n",
    "\n",
    "for category in CATEGORIES:\n",
    "    path =os.path.join(DIRECTORY,category)\n",
    "    for img in os.listdir(path):\n",
    "        img_path = os.path.join(path,img)\n",
    "        image= load_img(img_path,target_size=(224,224))\n",
    "        image= img_to_array(image)\n",
    "        image= preprocess_input(image)\n",
    "\n",
    "        data.append(image)\n",
    "        labels.append(category)\n",
    "\n",
    "lb=LabelBinarizer()\n",
    "labels=lb.fit_transform(labels)\n",
    "labels= to_categorical(labels)\n",
    "\n",
    "data= np.array(data,dtype=\"float32\")\n",
    "labels =np.array(labels)"
   ]
  },
  {
   "cell_type": "code",
   "execution_count": 29,
   "id": "cdaad680",
   "metadata": {},
   "outputs": [
    {
     "name": "stdout",
     "output_type": "stream",
     "text": [
      "WARNING:tensorflow:`input_shape` is undefined or non-square, or `rows` is not in [96, 128, 160, 192, 224]. Weights for input shape (224, 224) will be loaded as the default.\n"
     ]
    }
   ],
   "source": [
    "(train_X,test_X,train_Y,test_Y) = train_test_split(data, labels, test_size=0.20,stratify=labels, random_state=42)\n",
    "aug = ImageDataGenerator(\n",
    "    rotation_range=20,\n",
    "    zoom_range=0.15,\n",
    "    width_shift_range=0.2,\n",
    "    height_shift_range=0.2,\n",
    "    shear_range=0.15,\n",
    "    horizontal_flip=True,\n",
    "    fill_mode=\"nearest\")\n",
    "\n",
    "basemodel = MobileNetV2(weights=\"imagenet\",include_top=False,input_tensor=Input(shape=(224,224,3)))\n",
    "\n",
    "headModel = basemodel.output\n",
    "headModel = AveragePooling2D(pool_size=(7,7))(headModel)\n",
    "headModel = Flatten(name=\"Flatten\")(headModel)\n",
    "headModel = Dropout(0.5)(headModel)\n",
    "headModel = Dense(2,activation=\"softmax\")(headModel)\n",
    "\n",
    "model = Model(inputs=basemodel.input,outputs=headModel)\n",
    "\n",
    "for layer in basemodel.layers:\n",
    "    layer.trainable=False\n"
   ]
  },
  {
   "cell_type": "code",
   "execution_count": 30,
   "id": "fb84a901",
   "metadata": {},
   "outputs": [
    {
     "name": "stdout",
     "output_type": "stream",
     "text": [
      "[INFO] compiling model...\n",
      "[INFO] training head...\n"
     ]
    },
    {
     "name": "stderr",
     "output_type": "stream",
     "text": [
      "C:\\Users\\ragha\\anaconda3\\envs\\tf2.6\\lib\\site-packages\\keras\\optimizer_v2\\optimizer_v2.py:355: UserWarning: The `lr` argument is deprecated, use `learning_rate` instead.\n",
      "  warnings.warn(\n"
     ]
    },
    {
     "name": "stdout",
     "output_type": "stream",
     "text": [
      "Epoch 1/20\n",
      "95/95 [==============================] - 35s 352ms/step - loss: 0.6719 - accuracy: 0.7113 - val_loss: 0.4549 - val_accuracy: 0.8957\n",
      "Epoch 2/20\n",
      "95/95 [==============================] - 30s 314ms/step - loss: 0.4583 - accuracy: 0.8556 - val_loss: 0.3237 - val_accuracy: 0.9544\n",
      "Epoch 3/20\n",
      "95/95 [==============================] - 31s 323ms/step - loss: 0.3646 - accuracy: 0.9074 - val_loss: 0.2459 - val_accuracy: 0.9713\n",
      "Epoch 4/20\n",
      "95/95 [==============================] - 27s 287ms/step - loss: 0.2868 - accuracy: 0.9357 - val_loss: 0.1985 - val_accuracy: 0.9804\n",
      "Epoch 5/20\n",
      "95/95 [==============================] - 29s 304ms/step - loss: 0.2471 - accuracy: 0.9410 - val_loss: 0.1649 - val_accuracy: 0.9844\n",
      "Epoch 6/20\n",
      "95/95 [==============================] - 27s 282ms/step - loss: 0.2109 - accuracy: 0.9539 - val_loss: 0.1428 - val_accuracy: 0.9870\n",
      "Epoch 7/20\n",
      "95/95 [==============================] - 28s 296ms/step - loss: 0.1811 - accuracy: 0.9657 - val_loss: 0.1259 - val_accuracy: 0.9883\n",
      "Epoch 8/20\n",
      "95/95 [==============================] - 27s 286ms/step - loss: 0.1752 - accuracy: 0.9588 - val_loss: 0.1125 - val_accuracy: 0.9896\n",
      "Epoch 9/20\n",
      "95/95 [==============================] - 31s 325ms/step - loss: 0.1525 - accuracy: 0.9647 - val_loss: 0.1027 - val_accuracy: 0.9896\n",
      "Epoch 10/20\n",
      "95/95 [==============================] - 34s 357ms/step - loss: 0.1472 - accuracy: 0.9637 - val_loss: 0.0930 - val_accuracy: 0.9922\n",
      "Epoch 11/20\n",
      "95/95 [==============================] - 31s 324ms/step - loss: 0.1344 - accuracy: 0.9680 - val_loss: 0.0859 - val_accuracy: 0.9935\n",
      "Epoch 12/20\n",
      "95/95 [==============================] - 30s 315ms/step - loss: 0.1263 - accuracy: 0.9697 - val_loss: 0.0805 - val_accuracy: 0.9922\n",
      "Epoch 13/20\n",
      "95/95 [==============================] - 27s 281ms/step - loss: 0.1235 - accuracy: 0.9690 - val_loss: 0.0754 - val_accuracy: 0.9922\n",
      "Epoch 14/20\n",
      "95/95 [==============================] - 28s 298ms/step - loss: 0.1113 - accuracy: 0.9736 - val_loss: 0.0721 - val_accuracy: 0.9922\n",
      "Epoch 15/20\n",
      "95/95 [==============================] - 31s 325ms/step - loss: 0.1056 - accuracy: 0.9740 - val_loss: 0.0695 - val_accuracy: 0.9909\n",
      "Epoch 16/20\n",
      "95/95 [==============================] - 29s 307ms/step - loss: 0.1097 - accuracy: 0.9720 - val_loss: 0.0651 - val_accuracy: 0.9909\n",
      "Epoch 17/20\n",
      "95/95 [==============================] - 28s 299ms/step - loss: 0.1017 - accuracy: 0.9743 - val_loss: 0.0616 - val_accuracy: 0.9922\n",
      "Epoch 18/20\n",
      "95/95 [==============================] - 28s 290ms/step - loss: 0.1012 - accuracy: 0.9759 - val_loss: 0.0594 - val_accuracy: 0.9922\n",
      "Epoch 19/20\n",
      "95/95 [==============================] - 29s 304ms/step - loss: 0.0958 - accuracy: 0.9756 - val_loss: 0.0570 - val_accuracy: 0.9922\n",
      "Epoch 20/20\n",
      "95/95 [==============================] - 30s 316ms/step - loss: 0.0911 - accuracy: 0.9736 - val_loss: 0.0555 - val_accuracy: 0.9922\n",
      "[INFO] evaluating network...\n",
      "              precision    recall  f1-score   support\n",
      "\n",
      "   with_mask       0.99      0.99      0.99       383\n",
      "without_mask       0.99      0.99      0.99       384\n",
      "\n",
      "    accuracy                           0.99       767\n",
      "   macro avg       0.99      0.99      0.99       767\n",
      "weighted avg       0.99      0.99      0.99       767\n",
      "\n",
      "[INFO] saving mask detect...\n"
     ]
    },
    {
     "name": "stderr",
     "output_type": "stream",
     "text": [
      "C:\\Users\\ragha\\anaconda3\\envs\\tf2.6\\lib\\site-packages\\keras\\utils\\generic_utils.py:494: CustomMaskWarning: Custom mask layers require a config and must override get_config. When loading, the custom mask layer must be passed to the custom_objects argument.\n",
      "  warnings.warn('Custom mask layers require a config and must override '\n"
     ]
    }
   ],
   "source": [
    "print(\"[INFO] compiling model...\")\n",
    "opt = Adam(lr=INIT_LR,decay= INIT_LR/EPOCHS)\n",
    "model.compile(loss=\"binary_crossentropy\",optimizer=opt,metrics=[\"accuracy\"])\n",
    "\n",
    "print(\"[INFO] training head...\")\n",
    "H= model.fit(aug.flow(train_X,train_Y,batch_size=BS),\n",
    "            steps_per_epoch=len(train_X)//BS,\n",
    "            validation_data=(test_X,test_Y),\n",
    "            validation_steps=len(test_X) // BS,\n",
    "            epochs=EPOCHS)\n",
    "        \n",
    "print(\"[INFO] evaluating network...\")\n",
    "predIdxs = model.predict(test_X,batch_size=BS)\n",
    "\n",
    "predIdxs = np.argmax(predIdxs,axis = 1)\n",
    "print(classification_report(test_Y.argmax(axis=1),predIdxs,target_names=lb.classes_))\n",
    "\n",
    "print(\"[INFO] saving mask detect...\")\n",
    "model.save(\"mask_detect.model\",save_format=\"h5\")"
   ]
  },
  {
   "cell_type": "code",
   "execution_count": 31,
   "id": "970791e2",
   "metadata": {},
   "outputs": [
    {
     "data": {
      "image/png": "[encoded data removed]",
      "text/plain": [
       "<Figure size 432x288 with 1 Axes>"
      ]
     },
     "metadata": {},
     "output_type": "display_data"
    }
   ],
   "source": [
    "N=EPOCHS\n",
    "plt.style.use(\"ggplot\")\n",
    "plt.figure()\n",
    "plt.plot(np.arange(0, N), H.history[\"loss\"], label=\"train_loss\")\n",
    "plt.plot(np.arange(0, N), H.history[\"val_loss\"], label=\"val_loss\")\n",
    "plt.plot(np.arange(0, N), H.history[\"accuracy\"], label=\"train_acc\")\n",
    "plt.plot(np.arange(0, N), H.history[\"val_accuracy\"], label=\"val_acc\")\n",
    "plt.title(\"Training Loss and Accuracy\")\n",
    "plt.xlabel(\"Epoch #\")\n",
    "plt.ylabel(\"Loss/Accuracy\")\n",
    "plt.legend(loc=\"lower left\")\n",
    "plt.savefig(\"plot.png\")"
   ]
  },
  {
   "cell_type": "code",
   "execution_count": null,
   "id": "f3fcfb52",
   "metadata": {},
   "outputs": [],
   "source": []
  }
 ],
 "metadata": {
  "kernelspec": {
   "display_name": "Python 3 (ipykernel)",
   "language": "python",
   "name": "python3"
  },
  "language_info": {
   "codemirror_mode": {
    "name": "ipython",
    "version": 3
   },
   "file_extension": ".py",
   "mimetype": "text/x-python",
   "name": "python",
   "nbconvert_exporter": "python",
   "pygments_lexer": "ipython3",
   "version": "3.8.0"
  }
 },
 "nbformat": 4,
 "nbformat_minor": 5
}
